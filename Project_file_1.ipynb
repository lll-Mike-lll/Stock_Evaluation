{
 "cells": [
  {
   "cell_type": "markdown",
   "metadata": {},
   "source": [
    "# Stock Evaluation\n"
   ]
  },
  {
   "cell_type": "markdown",
   "metadata": {},
   "source": [
    "### Overall process\n",
    "- Data collection and preprocess\n",
    "- Analysis\n",
    "- Summary"
   ]
  },
  {
   "cell_type": "code",
   "execution_count": 1,
   "metadata": {
    "scrolled": true
   },
   "outputs": [],
   "source": [
    "#import libraries\n",
    "\n",
    "import pandas as pd\n",
    "import json\n",
    "import datetime\n",
    "import matplotlib.pyplot as plt"
   ]
  },
  {
   "cell_type": "code",
   "execution_count": 2,
   "metadata": {},
   "outputs": [],
   "source": [
    "# initial code\n",
    "code_init_1 = \"none\""
   ]
  },
  {
   "cell_type": "markdown",
   "metadata": {},
   "source": [
    "### 1. Data collection\n",
    "#### 1.1 fetch data from official web"
   ]
  },
  {
   "cell_type": "markdown",
   "metadata": {},
   "source": [
    "- Data set of stock list in SET-100"
   ]
  },
  {
   "cell_type": "code",
   "execution_count": 3,
   "metadata": {},
   "outputs": [],
   "source": [
    "l_stock = ['AAV', 'ADVANC', 'AEONTS', 'AMATA', 'ANAN',\n",
    "           'AOT', 'AP', 'BANPU', 'BBL', 'BCH', 'BCP',\n",
    "           'BCPG', 'BDMS', 'BEAUTY', 'BEC', 'BEM',\n",
    "           'BGRIM', 'BH', 'BJC', 'BLAND', 'BPP',\n",
    "           'BTS', 'CBG', 'CENTEL', 'CHG', 'CK',\n",
    "           'CKP', 'COM7', 'CPALL', 'CPF', 'CPN',\n",
    "           'DELTA', 'DTAC', 'EA', 'EGCO', 'EPG',\n",
    "           'ERW', 'ESSO', 'GFPT', 'GLOBAL', 'GOLD',\n",
    "           'GPSC', 'GULF', 'GUNKUL', 'HANA', 'HMPRO',\n",
    "           'INTUCH', 'IRPC', 'IVL', 'KBANK', 'KCE',\n",
    "           'KKP', 'KTB', 'KTC', 'LH', 'MAJOR', 'MBK',\n",
    "           'MEGA', 'MINT', 'MTC', 'ORI', 'PLANB', 'PRM',\n",
    "           'PSH', 'PSL', 'PTG', 'PTT', 'PTTEP', 'PTTGC',\n",
    "           'QH', 'RATCH', 'ROBINS', 'RS', 'SAWAD', 'SCB',\n",
    "           'SCC', 'SGP', 'SIRI', 'SPALI', 'SPRC', 'STA',\n",
    "           'STEC', 'SUPER', 'TASCO', 'TCAP', 'THAI', \n",
    "           'THANI', 'TISCO', 'TKN', 'TMB', 'TOA', 'TOP',\n",
    "           'TPIPP', 'TRUE', 'TTW', 'TU', 'TVO', 'WHA',\n",
    "           'WHAUP', 'WORK']"
   ]
  },
  {
   "cell_type": "markdown",
   "metadata": {},
   "source": [
    "- Fetch price data from web"
   ]
  },
  {
   "cell_type": "code",
   "execution_count": 4,
   "metadata": {
    "scrolled": true
   },
   "outputs": [],
   "source": [
    "if code_init_1 == \"yes\":\n",
    "    sum_data=[]\n",
    "    currentDT = datetime.datetime.now()\n",
    "    for k in range(len(l_stock)):\n",
    "        l_data = []\n",
    "        #print(str(k+1)+\"/\"+str(len(l_stock))+\" processing\")\n",
    "        for i in range(9):\n",
    "            url = \"https://www.settrade.com/C04_02_stock_historical_p1.jsp?txtSymbol=\"+l_stock[k]+\"&selectPage=2&max=15&offset=\"+str(i*15)\n",
    "            data = pd.read_html(url)\n",
    "            for j in range(len(data[0].values.tolist())):\n",
    "                l_data.append(data[0].values.tolist()[j])\n",
    "        sum_data.append([l_stock[k],l_data])\n",
    "        #print('done')\n",
    "    currentDT1 = datetime.datetime.now()\n",
    "    print (str(currentDT1-currentDT))"
   ]
  },
  {
   "cell_type": "markdown",
   "metadata": {},
   "source": [
    "- Fetch financial data from website"
   ]
  },
  {
   "cell_type": "code",
   "execution_count": 5,
   "metadata": {},
   "outputs": [],
   "source": [
    "if code_init_1 == \"yes\":\n",
    "    index_a = [18,19,23,24,25,26,28,29]\n",
    "    fin_data = []\n",
    "    for i in range(len(l_stock)):\n",
    "        url_01 = \"https://www.set.or.th/set/factsheet.do?symbol=\"+l_stock[0]+\"&ssoPageId=3&language=th&country=TH\"\n",
    "        #print(str(i+1)+\"/\"+str(len(l_stock))+\" processing\")\n",
    "        data_01 = pd.read_html(url_01)\n",
    "        state_data = []\n",
    "        for j in index_a:\n",
    "            state_data.append(data_01[j].values.tolist())\n",
    "        fin_data.append([l_stock[i],state_data])\n",
    "        #print('done')\n"
   ]
  },
  {
   "cell_type": "markdown",
   "metadata": {},
   "source": [
    "- Fetch current financial data"
   ]
  },
  {
   "cell_type": "code",
   "execution_count": 6,
   "metadata": {
    "scrolled": true
   },
   "outputs": [],
   "source": [
    "if code_init_1 == \"yes\":\n",
    "    cur_fin_data = []\n",
    "    for i in range(len(l_stock)):\n",
    "        url_01 = \"https://www.set.or.th/set/companyfinance.do?type=balance&symbol=\"+l_stock[i]+\"&language=th&country=TH\"\n",
    "        #print(str(i+1)+\"/\"+str(len(l_stock))+\" processing\")\n",
    "        data_01 = pd.read_html(url_01)\n",
    "        #print('done')\n",
    "        url_02 = \"https://www.set.or.th/set/companyfinance.do?type=income&symbol=\"+l_stock[i]+\"&language=th&country=TH\"\n",
    "        data_02 = pd.read_html(url_02)\n",
    "        url_03 = \"https://www.set.or.th/set/companyfinance.do?type=cashflow&symbol=\"+l_stock[i]+\"&language=th&country=TH\"\n",
    "        data_03 = pd.read_html(url_03)\n",
    "        cur_fin_data.append([l_stock[i],data_01[1][1][0],data_01[2].values.tolist(),data_02[2].values.tolist(),data_03[2].values.tolist()])\n"
   ]
  },
  {
   "cell_type": "markdown",
   "metadata": {},
   "source": [
    "- Fetch overview financial data"
   ]
  },
  {
   "cell_type": "code",
   "execution_count": 7,
   "metadata": {
    "scrolled": true
   },
   "outputs": [],
   "source": [
    "if code_init_1 == \"yes\":\n",
    "    over_fin_data = []\n",
    "    for i in range(len(l_stock)):\n",
    "        print(str(i+1)+\"/\"+str(len(l_stock))+\" processing\")\n",
    "        url_1 = \"https://www.set.or.th/set/companyhighlight.do?symbol=\"+l_stock[i]+\"&ssoPageId=5&language=th&country=TH\"\n",
    "        data_1 = pd.read_html(url_1)\n",
    "        over_fin_data.append([l_stock[i],data_1[0].values.tolist()])"
   ]
  },
  {
   "cell_type": "markdown",
   "metadata": {},
   "source": [
    "#### 1.2 Record data to local folder"
   ]
  },
  {
   "cell_type": "code",
   "execution_count": 8,
   "metadata": {
    "scrolled": true
   },
   "outputs": [],
   "source": [
    "# Save fetched data to json file\n",
    "\n",
    "if code_init_1 == \"yes\":\n",
    "    file_data = {'batch1':sum_data}\n",
    "    with open('data_1_ex.json', 'w') as fp:\n",
    "        json.dump(file_data, fp)"
   ]
  },
  {
   "cell_type": "code",
   "execution_count": 9,
   "metadata": {
    "scrolled": true
   },
   "outputs": [],
   "source": [
    "# Get column name and save them to json file\n",
    "\n",
    "if code_init_1 == \"yes\":\n",
    "    l_col=[]\n",
    "    for col in data[0].columns: \n",
    "        #print(col)\n",
    "        l_col.append(col)\n",
    "\n",
    "    file_col = {'batch1':l_col}\n",
    "    with open('data_col_1_ex.json', 'w') as fp:\n",
    "        json.dump(file_col, fp)"
   ]
  },
  {
   "cell_type": "code",
   "execution_count": 10,
   "metadata": {},
   "outputs": [],
   "source": [
    "# Save financial data\n",
    "\n",
    "if code_init_1 == \"yes\":\n",
    "    file_fin = {'batch1':fin_data}\n",
    "    with open('data_fin_1_ex.json', 'w') as fp2:\n",
    "        json.dump(file_fin, fp2)"
   ]
  },
  {
   "cell_type": "code",
   "execution_count": 11,
   "metadata": {},
   "outputs": [],
   "source": [
    "# Save current financial data\n",
    "\n",
    "if code_init_1 == \"yes\":\n",
    "    file_cur_fin = {'batch1':cur_fin_data}\n",
    "    with open('data_cur_fin_1_ex.json', 'w') as fp2:\n",
    "        json.dump(file_cur_fin, fp2)"
   ]
  },
  {
   "cell_type": "code",
   "execution_count": 12,
   "metadata": {},
   "outputs": [],
   "source": [
    "# Save overview financial data\n",
    "\n",
    "if code_init_1 == \"yes\":\n",
    "    file_over_fin = {'batch1':over_fin_data}\n",
    "    with open('data_over_fin_1_ex.json', 'w') as fp2:\n",
    "        json.dump(file_over_fin, fp2)"
   ]
  },
  {
   "cell_type": "markdown",
   "metadata": {},
   "source": [
    "#### 1.3 Check data"
   ]
  },
  {
   "cell_type": "markdown",
   "metadata": {},
   "source": [
    "- Check column data"
   ]
  },
  {
   "cell_type": "code",
   "execution_count": 13,
   "metadata": {
    "scrolled": false
   },
   "outputs": [
    {
     "data": {
      "text/plain": [
       "{'batch1': ['วันที่',\n",
       "  'ราคาเปิด',\n",
       "  'ราคาสูงสุด',\n",
       "  'ราคาต่ำสุด',\n",
       "  'ราคาเฉลี่ย',\n",
       "  'ราคาปิด',\n",
       "  'เปลี่ยนแปลง',\n",
       "  '%เปลี่ยนแปลง',\n",
       "  'ปริมาณ(พันหุ้น)',\n",
       "  'มูลค่า(ล้านบาท)',\n",
       "  'SETIndex',\n",
       "  '%เปลี่ยนแปลง.1']}"
      ]
     },
     "execution_count": 13,
     "metadata": {},
     "output_type": "execute_result"
    }
   ],
   "source": [
    "with open('data_col_1.json','r') as json_file:\n",
    "    data_col = json.load(json_file)\n",
    "data_col"
   ]
  },
  {
   "cell_type": "markdown",
   "metadata": {},
   "source": [
    "- Check price stock data"
   ]
  },
  {
   "cell_type": "code",
   "execution_count": 14,
   "metadata": {
    "scrolled": true
   },
   "outputs": [
    {
     "name": "stdout",
     "output_type": "stream",
     "text": [
      "AAV\n",
      "['29/10/19', 2.52, 2.6, 2.5, 2.53, 2.5, -0.02, -0.79, 11655.4, 29.53, 1591.21, -0.33]\n"
     ]
    }
   ],
   "source": [
    "with open('data_1.json','r') as json_file:\n",
    "    data_s = json.load(json_file)\n",
    "print(data_s['batch1'][0][0])\n",
    "print(data_s['batch1'][0][1][0])"
   ]
  },
  {
   "cell_type": "markdown",
   "metadata": {},
   "source": [
    "- Check financial data"
   ]
  },
  {
   "cell_type": "code",
   "execution_count": 15,
   "metadata": {
    "scrolled": false
   },
   "outputs": [
    {
     "name": "stdout",
     "output_type": "stream",
     "text": [
      "[['สะสม: อัตราหมุนเวียนปริมาณการซื้อขาย, มูลค่าซื้อขาย/วัน', 'สะสม: อัตราหมุนเวียนปริมาณการซื้อขาย, มูลค่าซื้อขาย/วัน', 'สะสม: อัตราหมุนเวียนปริมาณการซื้อขาย, มูลค่าซื้อขาย/วัน', 'สะสม: อัตราหมุนเวียนปริมาณการซื้อขาย, มูลค่าซื้อขาย/วัน'], ['ข้อมูลสถิติ', 'YTD30 ต.ค. 2562', '256128 ธ.ค. 2561', '256029 ธ.ค. 2560'], ['จำนวนหุ้นจดทะเบียน (ล้านหุ้น)', '4850.00', '4850.00', '4850.00'], ['มูลค่าหลักทรัพย์ตามราคาตลาด (ลบ.)', '12222.00', '20370.00', '29827.50'], ['ราคา (บาท/หุ้น)', '2.52', '4.20', '6.15'], ['มูลค่าหุ้นทางบัญชีต่อหุ้น (บาท/หุ้น)', '4.21', '4.27', '4.59'], ['P/BV (X)', '0.60', '0.98', '1.34'], ['P/E (X)', nan, '24.98', '28.59'], ['อัตราหมุนเวียนปริมาณการซื้อขาย (%)', '56.74', '65.74', '130.69'], ['มูลค่าซื้อขาย/วัน (ลบ.)', '53.68', '63.26', '152.93'], ['Beta', '1.06', '0.63', '0.64'], [nan, nan, nan, nan], ['อัตราผลตอบแทน', 'YTD', '2561', '2560'], ['การเปลี่ยนแปลงของราคา (%)', '-40.00', '-31.71', '1.65'], ['อัตราเงินปันผลตอบแทน (%)', '13.29', '3.57', '2.44'], ['อัตราส่วนเงินปันผลต่อกำไร', nan, '1.99', '0.70'], ['นโยบายเงินปันผล', 'คำนึงถึงผลการดำเนินงาน สภาพคล่อง กระแสเงินสด และสถานะทางการเงินของ บมจ.เอเชีย เอวิเอชั่น เงื่อนไขและข้อจำกัดในการจ่ายเงินปันผลตามที่กำหนดไว้ในสัญญาเงินกู้ หุ้นกู้ หรือสัญญาต่างๆ ที่เกี่ยวข้อง (โดยมีเงื่อนไขเพิ่มเติม)', 'คำนึงถึงผลการดำเนินงาน สภาพคล่อง กระแสเงินสด และสถานะทางการเงินของ บมจ.เอเชีย เอวิเอชั่น เงื่อนไขและข้อจำกัดในการจ่ายเงินปันผลตามที่กำหนดไว้ในสัญญาเงินกู้ หุ้นกู้ หรือสัญญาต่างๆ ที่เกี่ยวข้อง (โดยมีเงื่อนไขเพิ่มเติม)', 'คำนึงถึงผลการดำเนินงาน สภาพคล่อง กระแสเงินสด และสถานะทางการเงินของ บมจ.เอเชีย เอวิเอชั่น เงื่อนไขและข้อจำกัดในการจ่ายเงินปันผลตามที่กำหนดไว้ในสัญญาเงินกู้ หุ้นกู้ หรือสัญญาต่างๆ ที่เกี่ยวข้อง (โดยมีเงื่อนไขเพิ่มเติม)']]\n"
     ]
    }
   ],
   "source": [
    "with open('data_fin_1.json','r') as json_file:\n",
    "    data_f = json.load(json_file)\n",
    "print(data_f[\"batch1\"][10][1][0])"
   ]
  },
  {
   "cell_type": "markdown",
   "metadata": {},
   "source": [
    "- Check current financial data"
   ]
  },
  {
   "cell_type": "code",
   "execution_count": 16,
   "metadata": {
    "scrolled": false
   },
   "outputs": [
    {
     "name": "stdout",
     "output_type": "stream",
     "text": [
      "[nan, 'เงินลงทุนระยะสั้น', '948.79']\n"
     ]
    }
   ],
   "source": [
    "with open('data_cur_fin_1.json','r') as json_file:\n",
    "    data_c_f = json.load(json_file)\n",
    "print(data_c_f[\"batch1\"][3][2][2])"
   ]
  },
  {
   "cell_type": "markdown",
   "metadata": {},
   "source": [
    "- Check overview financial data"
   ]
  },
  {
   "cell_type": "code",
   "execution_count": 17,
   "metadata": {},
   "outputs": [
    {
     "name": "stdout",
     "output_type": "stream",
     "text": [
      "['สินทรัพย์รวม', '25451.40', '26595.70', '29279.67', '33021.43', '33290.32']\n"
     ]
    }
   ],
   "source": [
    "with open('data_over_fin_1.json','r') as json_file:\n",
    "    data_o_f = json.load(json_file)\n",
    "print(data_o_f[\"batch1\"][3][1][1])"
   ]
  },
  {
   "cell_type": "markdown",
   "metadata": {},
   "source": [
    "### 2. Analysis"
   ]
  },
  {
   "cell_type": "markdown",
   "metadata": {},
   "source": [
    "#### Target of analysis"
   ]
  },
  {
   "cell_type": "markdown",
   "metadata": {},
   "source": [
    "- Select stocks which have good financial management from SET market\n",
    "- Stock evaluation in price and value of company"
   ]
  },
  {
   "cell_type": "markdown",
   "metadata": {},
   "source": [
    "#### 2.1 Debt analysis"
   ]
  },
  {
   "cell_type": "code",
   "execution_count": 18,
   "metadata": {
    "scrolled": false
   },
   "outputs": [
    {
     "name": "stdout",
     "output_type": "stream",
     "text": [
      "['รวมหนี้สินหมุนเวียน', '11714.66', '9200.66', '11022.16', '10910.14', '9270.10']\n",
      "['รวมสินทรัพย์', '60996.47', '62374.73', '61746.72', '62773.56', '56599.43']\n",
      "['งบแสดงฐานะการเงิน (ลบ.)', '6M/2562\\xa0(01/01/62 -30/06/62)', '6M/2561\\xa0(01/01/61 -30/06/61)', '2561\\xa0(01/01/61 -31/12/61)', '2560\\xa0(01/01/60 -31/12/60)', '2559\\xa0(01/01/59 -31/12/59)']\n"
     ]
    }
   ],
   "source": [
    "# get debt\n",
    "print(data_f[\"batch1\"][10][1][2][10])\n",
    "print(data_f[\"batch1\"][10][1][2][6])\n",
    "print(data_f[\"batch1\"][10][1][2][0])\n"
   ]
  },
  {
   "cell_type": "code",
   "execution_count": 19,
   "metadata": {},
   "outputs": [],
   "source": [
    "asset = data_f[\"batch1\"][10][1][2][6]\n",
    "debt = data_f[\"batch1\"][10][1][2][10]"
   ]
  },
  {
   "cell_type": "code",
   "execution_count": 20,
   "metadata": {},
   "outputs": [
    {
     "data": {
      "text/plain": [
       "['11714.66', 49281.81]"
      ]
     },
     "execution_count": 20,
     "metadata": {},
     "output_type": "execute_result"
    }
   ],
   "source": [
    "exp_label = [\"Debt\",\"Equity\"]\n",
    "exp_value = [debt[1],float(asset[1])-float(debt[1])]\n",
    "exp_value"
   ]
  },
  {
   "cell_type": "code",
   "execution_count": 21,
   "metadata": {
    "scrolled": false
   },
   "outputs": [
    {
     "data": {
      "image/png": "[encoded data removed]",
      "text/plain": [
       "<Figure size 432x288 with 1 Axes>"
      ]
     },
     "metadata": {},
     "output_type": "display_data"
    },
    {
     "name": "stdout",
     "output_type": "stream",
     "text": [
      "D/E ratio = 0.24\n"
     ]
    }
   ],
   "source": [
    "plt.style.use(\"fivethirtyeight\")\n",
    "plt.axis(\"equal\")\n",
    "plt.title(\"asset ratio\\n\\n\")\n",
    "plt.pie(exp_value,labels=exp_label,radius=1.5,autopct='%0.2f%%')\n",
    "plt.show()\n",
    "print(\"D/E ratio = \"+str(round(float(debt[1])/(float(asset[1])-float(debt[1])),2)))"
   ]
  },
  {
   "cell_type": "markdown",
   "metadata": {},
   "source": [
    "#### 2.2 liquidity analysis"
   ]
  },
  {
   "cell_type": "markdown",
   "metadata": {},
   "source": [
    "- Current ratio"
   ]
  },
  {
   "cell_type": "markdown",
   "metadata": {},
   "source": [
    "$$Current\\;ratio =\\;รวมสินทรัพย์หมุนเวียน\\;/ \\;รวมหนี้สินหมุนเวียน$$"
   ]
  },
  {
   "cell_type": "code",
   "execution_count": 22,
   "metadata": {
    "scrolled": true
   },
   "outputs": [
    {
     "name": "stdout",
     "output_type": "stream",
     "text": [
      "รวมสินทรัพย์หมุนเวียน : 10062.89\n",
      "รวมหนี้สินหมุนเวียน : 4411.82\n",
      "\n",
      "AMATA\n",
      "Current ratio 2.28\n"
     ]
    }
   ],
   "source": [
    "# total total current asset / current liabilities\n",
    "k=3\n",
    "for i in range(len(data_c_f[\"batch1\"][3][2])):\n",
    "    #print(data_c_f[\"batch1\"][k][2][i][1])\n",
    "    if data_c_f[\"batch1\"][k][2][i][1]==\"รวมสินทรัพย์หมุนเวียน\":\n",
    "        print(data_c_f[\"batch1\"][k][2][i][1]+\" : \"+data_c_f[\"batch1\"][k][2][i][2])\n",
    "        t_c_asset = data_c_f[\"batch1\"][k][2][i][2]\n",
    "    elif data_c_f[\"batch1\"][k][2][i][1]==\"รวมหนี้สินหมุนเวียน\":\n",
    "        print(data_c_f[\"batch1\"][k][2][i][1]+\" : \"+data_c_f[\"batch1\"][k][2][i][2])\n",
    "        t_c_debt = data_c_f[\"batch1\"][k][2][i][2]\n",
    "        \n",
    "print(\"\\n\"+data_c_f[\"batch1\"][k][0])\n",
    "print(\"Current ratio \"+str(round(float(t_c_asset)/float(t_c_debt),2)))"
   ]
  },
  {
   "cell_type": "markdown",
   "metadata": {},
   "source": [
    "- Quick ratio"
   ]
  },
  {
   "cell_type": "markdown",
   "metadata": {},
   "source": [
    "$$Quick\\;ratio = (รวมสินทรัพย์หมุนเวียน\\;-\\;สินค้าคงเหลือ)\\;/\\;รวมหนี้สินหมุนเวียน$$"
   ]
  },
  {
   "cell_type": "code",
   "execution_count": 23,
   "metadata": {},
   "outputs": [
    {
     "name": "stdout",
     "output_type": "stream",
     "text": [
      "สินค้าคงเหลือ : 7940.18\n",
      "\n",
      "AMATA\n",
      "Current ratio 0.48\n"
     ]
    }
   ],
   "source": [
    "k=3\n",
    "for i in range(len(data_c_f[\"batch1\"][3][2])):\n",
    "    #print(data_c_f[\"batch1\"][k][2][i][1])\n",
    "    print\n",
    "    if data_c_f[\"batch1\"][k][2][i][1]==\"สินค้าคงเหลือ\":\n",
    "        print(data_c_f[\"batch1\"][k][2][i][1]+\" : \"+data_c_f[\"batch1\"][k][2][i][2])\n",
    "        t_c_inventory = data_c_f[\"batch1\"][k][2][i][2]\n",
    "print(\"\\n\"+data_c_f[\"batch1\"][k][0])\n",
    "print(\"Current ratio \"+str(round((float(t_c_asset)-float(t_c_inventory))/float(t_c_debt),2)))"
   ]
  },
  {
   "cell_type": "markdown",
   "metadata": {},
   "source": [
    "#### 2.3 Corporate income analysis"
   ]
  },
  {
   "cell_type": "code",
   "execution_count": null,
   "metadata": {},
   "outputs": [],
   "source": []
  }
 ],
 "metadata": {
  "kernelspec": {
   "display_name": "Python 3",
   "language": "python",
   "name": "python3"
  },
  "language_info": {
   "codemirror_mode": {
    "name": "ipython",
    "version": 3
   },
   "file_extension": ".py",
   "mimetype": "text/x-python",
   "name": "python",
   "nbconvert_exporter": "python",
   "pygments_lexer": "ipython3",
   "version": "3.7.3"
  }
 },
 "nbformat": 4,
 "nbformat_minor": 2
}
