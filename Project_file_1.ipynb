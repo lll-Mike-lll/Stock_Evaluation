{
 "cells": [
  {
   "cell_type": "markdown",
   "metadata": {},
   "source": [
    "# Stock Evaluation\n"
   ]
  },
  {
   "cell_type": "markdown",
   "metadata": {},
   "source": [
    "### Overall process\n",
    "- Data collection\n",
    "- Preprocess\n",
    "- Analysis\n",
    "- Summary"
   ]
  },
  {
   "cell_type": "code",
   "execution_count": 2,
   "metadata": {
    "scrolled": true
   },
   "outputs": [],
   "source": [
    "#import libraries\n",
    "\n",
    "import pandas as pd\n",
    "import json\n",
    "import datetime\n",
    "import matplotlib.pyplot as plt"
   ]
  },
  {
   "cell_type": "markdown",
   "metadata": {},
   "source": [
    "### 1. Data collection\n",
    "#### 1.1 fetch data from official web"
   ]
  },
  {
   "cell_type": "markdown",
   "metadata": {},
   "source": [
    "- Data set of stock list in SET-100"
   ]
  },
  {
   "cell_type": "code",
   "execution_count": 146,
   "metadata": {},
   "outputs": [],
   "source": [
    "l_stock = ['AAV', 'ADVANC', 'AEONTS', 'AMATA', 'ANAN',\n",
    "           'AOT', 'AP', 'BANPU', 'BBL', 'BCH', 'BCP',\n",
    "           'BCPG', 'BDMS', 'BEAUTY', 'BEC', 'BEM',\n",
    "           'BGRIM', 'BH', 'BJC', 'BLAND', 'BPP',\n",
    "           'BTS', 'CBG', 'CENTEL', 'CHG', 'CK',\n",
    "           'CKP', 'COM7', 'CPALL', 'CPF', 'CPN',\n",
    "           'DELTA', 'DTAC', 'EA', 'EGCO', 'EPG',\n",
    "           'ERW', 'ESSO', 'GFPT', 'GLOBAL', 'GOLD',\n",
    "           'GPSC', 'GULF', 'GUNKUL', 'HANA', 'HMPRO',\n",
    "           'INTUCH', 'IRPC', 'IVL', 'KBANK', 'KCE',\n",
    "           'KKP', 'KTB', 'KTC', 'LH', 'MAJOR', 'MBK',\n",
    "           'MEGA', 'MINT', 'MTC', 'ORI', 'PLANB', 'PRM',\n",
    "           'PSH', 'PSL', 'PTG', 'PTT', 'PTTEP', 'PTTGC',\n",
    "           'QH', 'RATCH', 'ROBINS', 'RS', 'SAWAD', 'SCB',\n",
    "           'SCC', 'SGP', 'SIRI', 'SPALI', 'SPRC', 'STA',\n",
    "           'STEC', 'SUPER', 'TASCO', 'TCAP', 'THAI', \n",
    "           'THANI', 'TISCO', 'TKN', 'TMB', 'TOA', 'TOP',\n",
    "           'TPIPP', 'TRUE', 'TTW', 'TU', 'TVO', 'WHA',\n",
    "           'WHAUP', 'WORK']"
   ]
  },
  {
   "cell_type": "markdown",
   "metadata": {},
   "source": [
    "- Fetch price data from web"
   ]
  },
  {
   "cell_type": "code",
   "execution_count": null,
   "metadata": {
    "scrolled": true
   },
   "outputs": [],
   "source": [
    "sum_data=[]\n",
    "currentDT = datetime.datetime.now()\n",
    "for k in range(len(l_stock)):\n",
    "    l_data = []\n",
    "    #print(str(k+1)+\"/\"+str(len(l_stock))+\" processing\")\n",
    "    for i in range(9):\n",
    "        url = \"https://www.settrade.com/C04_02_stock_historical_p1.jsp?txtSymbol=\"+l_stock[k]+\"&selectPage=2&max=15&offset=\"+str(i*15)\n",
    "        data = pd.read_html(url)\n",
    "        for j in range(len(data[0].values.tolist())):\n",
    "            l_data.append(data[0].values.tolist()[j])\n",
    "    sum_data.append([l_stock[k],l_data])\n",
    "    #print('done')\n",
    "currentDT1 = datetime.datetime.now()\n",
    "print (str(currentDT1-currentDT))"
   ]
  },
  {
   "cell_type": "markdown",
   "metadata": {},
   "source": [
    "- Fetch financial data from website"
   ]
  },
  {
   "cell_type": "code",
   "execution_count": null,
   "metadata": {},
   "outputs": [],
   "source": [
    "index_a = [18,19,23,24,25,26,28,29]\n",
    "fin_data = []\n",
    "for i in range(len(l_stock)):\n",
    "    url_01 = \"https://www.set.or.th/set/factsheet.do?symbol=\"+l_stock[0]+\"&ssoPageId=3&language=th&country=TH\"\n",
    "    #print(str(i+1)+\"/\"+str(len(l_stock))+\" processing\")\n",
    "    data_01 = pd.read_html(url_01)\n",
    "    state_data = []\n",
    "    for j in index_a:\n",
    "        state_data.append(data_01[j].values.tolist())\n",
    "    fin_data.append([l_stock[i],state_data])\n",
    "    #print('done')\n",
    " "
   ]
  },
  {
   "cell_type": "markdown",
   "metadata": {},
   "source": [
    "#### 1.2 Record data to local folder"
   ]
  },
  {
   "cell_type": "code",
   "execution_count": null,
   "metadata": {
    "scrolled": true
   },
   "outputs": [],
   "source": [
    "# Save fetched data to json file\n",
    "\n",
    "file_data = {'batch1':sum_data}\n",
    "with open('data_1_ex.json', 'w') as fp:\n",
    "    json.dump(file_data, fp)"
   ]
  },
  {
   "cell_type": "code",
   "execution_count": null,
   "metadata": {
    "scrolled": true
   },
   "outputs": [],
   "source": [
    "# Get column name and save them to json file\n",
    "\n",
    "l_col=[]\n",
    "for col in data[0].columns: \n",
    "    #print(col)\n",
    "    l_col.append(col)\n",
    "    \n",
    "file_col = {'batch1':l_col}\n",
    "with open('data_col_1_ex.json', 'w') as fp:\n",
    "    json.dump(file_col, fp)"
   ]
  },
  {
   "cell_type": "code",
   "execution_count": 140,
   "metadata": {},
   "outputs": [],
   "source": [
    "# Save financial data\n",
    "file_fin = {'batch1':fin_data}\n",
    "with open('data_fin_1_ex.json', 'w') as fp2:\n",
    "    json.dump(file_fin, fp2)"
   ]
  },
  {
   "cell_type": "markdown",
   "metadata": {},
   "source": [
    "#### 1.3 Check data"
   ]
  },
  {
   "cell_type": "markdown",
   "metadata": {},
   "source": [
    "- Check column data"
   ]
  },
  {
   "cell_type": "code",
   "execution_count": 4,
   "metadata": {
    "scrolled": false
   },
   "outputs": [
    {
     "data": {
      "text/plain": [
       "{'batch1': ['วันที่',\n",
       "  'ราคาเปิด',\n",
       "  'ราคาสูงสุด',\n",
       "  'ราคาต่ำสุด',\n",
       "  'ราคาเฉลี่ย',\n",
       "  'ราคาปิด',\n",
       "  'เปลี่ยนแปลง',\n",
       "  '%เปลี่ยนแปลง',\n",
       "  'ปริมาณ(พันหุ้น)',\n",
       "  'มูลค่า(ล้านบาท)',\n",
       "  'SETIndex',\n",
       "  '%เปลี่ยนแปลง.1']}"
      ]
     },
     "execution_count": 4,
     "metadata": {},
     "output_type": "execute_result"
    }
   ],
   "source": [
    "with open('data_col_1.json','r') as json_file:\n",
    "    data_col = json.load(json_file)\n",
    "data_col"
   ]
  },
  {
   "cell_type": "markdown",
   "metadata": {},
   "source": [
    "- Check price stock data"
   ]
  },
  {
   "cell_type": "code",
   "execution_count": 5,
   "metadata": {
    "scrolled": true
   },
   "outputs": [
    {
     "name": "stdout",
     "output_type": "stream",
     "text": [
      "AAV\n",
      "['29/10/19', 2.52, 2.6, 2.5, 2.53, 2.5, -0.02, -0.79, 11655.4, 29.53, 1591.21, -0.33]\n"
     ]
    }
   ],
   "source": [
    "with open('data_1.json','r') as json_file:\n",
    "    data_s = json.load(json_file)\n",
    "print(data_s['batch1'][0][0])\n",
    "print(data_s['batch1'][0][1][0])"
   ]
  },
  {
   "cell_type": "markdown",
   "metadata": {},
   "source": [
    "- Check financial data"
   ]
  },
  {
   "cell_type": "code",
   "execution_count": 6,
   "metadata": {
    "scrolled": true
   },
   "outputs": [
    {
     "name": "stdout",
     "output_type": "stream",
     "text": [
      "[['สะสม: อัตราหมุนเวียนปริมาณการซื้อขาย, มูลค่าซื้อขาย/วัน', 'สะสม: อัตราหมุนเวียนปริมาณการซื้อขาย, มูลค่าซื้อขาย/วัน', 'สะสม: อัตราหมุนเวียนปริมาณการซื้อขาย, มูลค่าซื้อขาย/วัน', 'สะสม: อัตราหมุนเวียนปริมาณการซื้อขาย, มูลค่าซื้อขาย/วัน'], ['ข้อมูลสถิติ', 'YTD30 ต.ค. 2562', '256128 ธ.ค. 2561', '256029 ธ.ค. 2560'], ['จำนวนหุ้นจดทะเบียน (ล้านหุ้น)', '4850.00', '4850.00', '4850.00'], ['มูลค่าหลักทรัพย์ตามราคาตลาด (ลบ.)', '12222.00', '20370.00', '29827.50'], ['ราคา (บาท/หุ้น)', '2.52', '4.20', '6.15'], ['มูลค่าหุ้นทางบัญชีต่อหุ้น (บาท/หุ้น)', '4.21', '4.27', '4.59'], ['P/BV (X)', '0.60', '0.98', '1.34'], ['P/E (X)', nan, '24.98', '28.59'], ['อัตราหมุนเวียนปริมาณการซื้อขาย (%)', '56.74', '65.74', '130.69'], ['มูลค่าซื้อขาย/วัน (ลบ.)', '53.68', '63.26', '152.93'], ['Beta', '1.06', '0.63', '0.64'], [nan, nan, nan, nan], ['อัตราผลตอบแทน', 'YTD', '2561', '2560'], ['การเปลี่ยนแปลงของราคา (%)', '-40.00', '-31.71', '1.65'], ['อัตราเงินปันผลตอบแทน (%)', '13.29', '3.57', '2.44'], ['อัตราส่วนเงินปันผลต่อกำไร', nan, '1.99', '0.70'], ['นโยบายเงินปันผล', 'คำนึงถึงผลการดำเนินงาน สภาพคล่อง กระแสเงินสด และสถานะทางการเงินของ บมจ.เอเชีย เอวิเอชั่น เงื่อนไขและข้อจำกัดในการจ่ายเงินปันผลตามที่กำหนดไว้ในสัญญาเงินกู้ หุ้นกู้ หรือสัญญาต่างๆ ที่เกี่ยวข้อง (โดยมีเงื่อนไขเพิ่มเติม)', 'คำนึงถึงผลการดำเนินงาน สภาพคล่อง กระแสเงินสด และสถานะทางการเงินของ บมจ.เอเชีย เอวิเอชั่น เงื่อนไขและข้อจำกัดในการจ่ายเงินปันผลตามที่กำหนดไว้ในสัญญาเงินกู้ หุ้นกู้ หรือสัญญาต่างๆ ที่เกี่ยวข้อง (โดยมีเงื่อนไขเพิ่มเติม)', 'คำนึงถึงผลการดำเนินงาน สภาพคล่อง กระแสเงินสด และสถานะทางการเงินของ บมจ.เอเชีย เอวิเอชั่น เงื่อนไขและข้อจำกัดในการจ่ายเงินปันผลตามที่กำหนดไว้ในสัญญาเงินกู้ หุ้นกู้ หรือสัญญาต่างๆ ที่เกี่ยวข้อง (โดยมีเงื่อนไขเพิ่มเติม)']]\n"
     ]
    }
   ],
   "source": [
    "with open('data_fin_1.json','r') as json_file:\n",
    "    data_f = json.load(json_file)\n",
    "print(data_f[\"batch1\"][10][1][0])"
   ]
  },
  {
   "cell_type": "markdown",
   "metadata": {},
   "source": [
    "### 2. Preprocess"
   ]
  },
  {
   "cell_type": "markdown",
   "metadata": {},
   "source": [
    "#### 2.1 customize data to available format for analysis"
   ]
  },
  {
   "cell_type": "code",
   "execution_count": null,
   "metadata": {},
   "outputs": [],
   "source": []
  },
  {
   "cell_type": "code",
   "execution_count": null,
   "metadata": {},
   "outputs": [],
   "source": []
  },
  {
   "cell_type": "code",
   "execution_count": null,
   "metadata": {},
   "outputs": [],
   "source": []
  },
  {
   "cell_type": "markdown",
   "metadata": {},
   "source": [
    "### 3. Analysis"
   ]
  },
  {
   "cell_type": "markdown",
   "metadata": {},
   "source": [
    "#### Target of analysis"
   ]
  },
  {
   "cell_type": "markdown",
   "metadata": {},
   "source": [
    "- Select stocks which have good financial management from SET market\n",
    "- Stock evaluation in price and value of company"
   ]
  },
  {
   "cell_type": "markdown",
   "metadata": {},
   "source": [
    "#### 3.1 Debt analysis"
   ]
  },
  {
   "cell_type": "code",
   "execution_count": 7,
   "metadata": {
    "scrolled": false
   },
   "outputs": [
    {
     "name": "stdout",
     "output_type": "stream",
     "text": [
      "['รวมหนี้สินหมุนเวียน', '11714.66', '9200.66', '11022.16', '10910.14', '9270.10']\n",
      "['รวมสินทรัพย์', '60996.47', '62374.73', '61746.72', '62773.56', '56599.43']\n",
      "['งบแสดงฐานะการเงิน (ลบ.)', '6M/2562\\xa0(01/01/62 -30/06/62)', '6M/2561\\xa0(01/01/61 -30/06/61)', '2561\\xa0(01/01/61 -31/12/61)', '2560\\xa0(01/01/60 -31/12/60)', '2559\\xa0(01/01/59 -31/12/59)']\n"
     ]
    }
   ],
   "source": [
    "# get debt\n",
    "print(data_f[\"batch1\"][10][1][2][10])\n",
    "print(data_f[\"batch1\"][10][1][2][6])\n",
    "print(data_f[\"batch1\"][10][1][2][0])\n"
   ]
  },
  {
   "cell_type": "code",
   "execution_count": 10,
   "metadata": {},
   "outputs": [],
   "source": [
    "asset = data_f[\"batch1\"][10][1][2][6]\n",
    "debt = data_f[\"batch1\"][10][1][2][10]"
   ]
  },
  {
   "cell_type": "code",
   "execution_count": 14,
   "metadata": {},
   "outputs": [
    {
     "data": {
      "text/plain": [
       "['11714.66', 49281.81]"
      ]
     },
     "execution_count": 14,
     "metadata": {},
     "output_type": "execute_result"
    }
   ],
   "source": [
    "exp_label = [\"Debt\",\"Equity\"]\n",
    "exp_value = [debt[1],float(asset[1])-float(debt[1])]\n",
    "exp_value"
   ]
  },
  {
   "cell_type": "code",
   "execution_count": 31,
   "metadata": {},
   "outputs": [
    {
     "data": {
      "image/png": "[encoded data removed]",
      "text/plain": [
       "<Figure size 432x288 with 1 Axes>"
      ]
     },
     "metadata": {},
     "output_type": "display_data"
    }
   ],
   "source": [
    "plt.style.use(\"fivethirtyeight\")\n",
    "plt.axis(\"equal\")\n",
    "plt.title(\"asset ratio/n\")\n",
    "plt.pie(exp_value,labels=exp_label,radius=1.5,autopct='%0.2f%%')\n",
    "plt.show()"
   ]
  },
  {
   "cell_type": "markdown",
   "metadata": {},
   "source": [
    "#### 3.2 liquidity analysis"
   ]
  },
  {
   "cell_type": "code",
   "execution_count": null,
   "metadata": {},
   "outputs": [],
   "source": []
  },
  {
   "cell_type": "markdown",
   "metadata": {},
   "source": [
    "#### Earning analysis"
   ]
  },
  {
   "cell_type": "code",
   "execution_count": null,
   "metadata": {},
   "outputs": [],
   "source": []
  }
 ],
 "metadata": {
  "kernelspec": {
   "display_name": "Python 3",
   "language": "python",
   "name": "python3"
  },
  "language_info": {
   "codemirror_mode": {
    "name": "ipython",
    "version": 3
   },
   "file_extension": ".py",
   "mimetype": "text/x-python",
   "name": "python",
   "nbconvert_exporter": "python",
   "pygments_lexer": "ipython3",
   "version": "3.7.3"
  }
 },
 "nbformat": 4,
 "nbformat_minor": 2
}
