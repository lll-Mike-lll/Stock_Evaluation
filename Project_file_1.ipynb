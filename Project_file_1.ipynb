{
 "cells": [
  {
   "cell_type": "markdown",
   "metadata": {},
   "source": [
    "# Stock Evaluation\n"
   ]
  },
  {
   "cell_type": "markdown",
   "metadata": {},
   "source": [
    "### 1. Overall process\n",
    "- Data collection\n",
    "- Preprocess\n",
    "- Analysis\n",
    "- Summary"
   ]
  },
  {
   "cell_type": "code",
   "execution_count": 52,
   "metadata": {},
   "outputs": [],
   "source": [
    "#import libraries\n",
    "\n",
    "import pandas as pd\n",
    "import json\n",
    "import datetime"
   ]
  },
  {
   "cell_type": "markdown",
   "metadata": {},
   "source": [
    "### 2. Data collection\n",
    "#### 2.1 fetch data from official web"
   ]
  },
  {
   "cell_type": "markdown",
   "metadata": {},
   "source": [
    "--Data set of stock list in SET-100"
   ]
  },
  {
   "cell_type": "code",
   "execution_count": 53,
   "metadata": {},
   "outputs": [],
   "source": [
    "l_stock = ['AAV', 'ADVANC', 'AEONTS', 'AMATA', 'ANAN',\n",
    "           'AOT', 'AP', 'BANPU', 'BBL', 'BCH', 'BCP',\n",
    "           'BCPG', 'BDMS', 'BEAUTY', 'BEC', 'BEM',\n",
    "           'BGRIM', 'BH', 'BJC', 'BLAND', 'BPP',\n",
    "           'BTS', 'CBG', 'CENTEL', 'CHG', 'CK',\n",
    "           'CKP', 'COM7', 'CPALL', 'CPF', 'CPN',\n",
    "           'DELTA', 'DTAC', 'EA', 'EGCO', 'EPG',\n",
    "           'ERW', 'ESSO', 'GFPT', 'GLOBAL', 'GOLD',\n",
    "           'GPSC', 'GULF', 'GUNKUL', 'HANA', 'HMPRO',\n",
    "           'INTUCH', 'IRPC', 'IVL', 'KBANK', 'KCE',\n",
    "           'KKP', 'KTB', 'KTC', 'LH', 'MAJOR', 'MBK',\n",
    "           'MEGA', 'MINT', 'MTC', 'ORI', 'PLANB', 'PRM',\n",
    "           'PSH', 'PSL', 'PTG', 'PTT', 'PTTEP', 'PTTGC',\n",
    "           'QH', 'RATCH', 'ROBINS', 'RS', 'SAWAD', 'SCB',\n",
    "           'SCC', 'SGP', 'SIRI', 'SPALI', 'SPRC', 'STA',\n",
    "           'STEC', 'SUPER', 'TASCO', 'TCAP', 'THAI', \n",
    "           'THANI', 'TISCO', 'TKN', 'TMB', 'TOA', 'TOP',\n",
    "           'TPIPP', 'TRUE', 'TTW', 'TU', 'TVO', 'WHA',\n",
    "           'WHAUP', 'WORK']"
   ]
  },
  {
   "cell_type": "markdown",
   "metadata": {},
   "source": [
    "--Fetch data price in each stock"
   ]
  },
  {
   "cell_type": "code",
   "execution_count": 56,
   "metadata": {
    "scrolled": true
   },
   "outputs": [
    {
     "name": "stdout",
     "output_type": "stream",
     "text": [
      "0 processing\n",
      "done\n",
      "1 processing\n",
      "done\n",
      "2 processing\n",
      "done\n",
      "3 processing\n",
      "done\n",
      "4 processing\n",
      "done\n",
      "5 processing\n",
      "done\n",
      "6 processing\n",
      "done\n",
      "7 processing\n",
      "done\n",
      "8 processing\n",
      "done\n",
      "9 processing\n",
      "done\n",
      "10 processing\n",
      "done\n",
      "11 processing\n",
      "done\n",
      "12 processing\n",
      "done\n",
      "13 processing\n",
      "done\n",
      "14 processing\n",
      "done\n",
      "15 processing\n",
      "done\n",
      "16 processing\n",
      "done\n",
      "17 processing\n",
      "done\n",
      "18 processing\n",
      "done\n",
      "19 processing\n",
      "done\n",
      "20 processing\n",
      "done\n",
      "21 processing\n",
      "done\n",
      "22 processing\n",
      "done\n",
      "23 processing\n",
      "done\n",
      "24 processing\n",
      "done\n",
      "25 processing\n",
      "done\n",
      "26 processing\n",
      "done\n",
      "27 processing\n",
      "done\n",
      "28 processing\n",
      "done\n",
      "29 processing\n",
      "done\n",
      "30 processing\n",
      "done\n",
      "31 processing\n",
      "done\n",
      "32 processing\n",
      "done\n",
      "33 processing\n",
      "done\n",
      "34 processing\n",
      "done\n",
      "35 processing\n",
      "done\n",
      "36 processing\n",
      "done\n",
      "37 processing\n",
      "done\n",
      "38 processing\n",
      "done\n",
      "39 processing\n",
      "done\n",
      "40 processing\n",
      "done\n",
      "41 processing\n",
      "done\n",
      "42 processing\n",
      "done\n",
      "43 processing\n",
      "done\n",
      "44 processing\n",
      "done\n",
      "45 processing\n",
      "done\n",
      "46 processing\n",
      "done\n",
      "47 processing\n",
      "done\n",
      "48 processing\n",
      "done\n",
      "49 processing\n",
      "done\n",
      "50 processing\n",
      "done\n",
      "51 processing\n",
      "done\n",
      "52 processing\n",
      "done\n",
      "53 processing\n",
      "done\n",
      "54 processing\n",
      "done\n",
      "55 processing\n",
      "done\n",
      "56 processing\n",
      "done\n",
      "57 processing\n",
      "done\n",
      "58 processing\n",
      "done\n",
      "59 processing\n",
      "done\n",
      "60 processing\n",
      "done\n",
      "61 processing\n",
      "done\n",
      "62 processing\n",
      "done\n",
      "63 processing\n",
      "done\n",
      "64 processing\n",
      "done\n",
      "65 processing\n",
      "done\n",
      "66 processing\n",
      "done\n",
      "67 processing\n",
      "done\n",
      "68 processing\n",
      "done\n",
      "69 processing\n",
      "done\n",
      "70 processing\n",
      "done\n",
      "71 processing\n",
      "done\n",
      "72 processing\n",
      "done\n",
      "73 processing\n",
      "done\n",
      "74 processing\n",
      "done\n",
      "75 processing\n",
      "done\n",
      "76 processing\n",
      "done\n",
      "77 processing\n",
      "done\n",
      "78 processing\n",
      "done\n",
      "79 processing\n",
      "done\n",
      "80 processing\n",
      "done\n",
      "81 processing\n",
      "done\n",
      "82 processing\n",
      "done\n",
      "83 processing\n",
      "done\n",
      "84 processing\n",
      "done\n",
      "85 processing\n",
      "done\n",
      "86 processing\n",
      "done\n",
      "87 processing\n",
      "done\n",
      "88 processing\n",
      "done\n",
      "89 processing\n",
      "done\n",
      "90 processing\n",
      "done\n",
      "91 processing\n",
      "done\n",
      "92 processing\n",
      "done\n",
      "93 processing\n",
      "done\n",
      "94 processing\n",
      "done\n",
      "95 processing\n",
      "done\n",
      "96 processing\n",
      "done\n",
      "97 processing\n",
      "done\n",
      "98 processing\n",
      "done\n",
      "99 processing\n",
      "done\n",
      "0:04:22.291321\n"
     ]
    }
   ],
   "source": [
    "sum_data=[]\n",
    "currentDT = datetime.datetime.now()\n",
    "for k in range(len(l_stock)):\n",
    "    l_data = []\n",
    "    print(str(k+1)+\"/\"+str(len(l_stock))+\" processing\")\n",
    "    for i in range(9):\n",
    "        url = \"https://www.settrade.com/C04_02_stock_historical_p1.jsp?txtSymbol=\"+l_stock[k]+\"&selectPage=2&max=15&offset=\"+str(i*15)\n",
    "        data = pd.read_html(url)\n",
    "        for j in range(len(data[0].values.tolist())):\n",
    "            l_data.append(data[0].values.tolist()[j])\n",
    "    sum_data.append([l_stock[k],l_data])\n",
    "    print('done')\n",
    "currentDT1 = datetime.datetime.now()\n",
    "print (str(currentDT1-currentDT))\n",
    "\n",
    "# Save fetched data to json file\n",
    "\n",
    "file_data = {'batch1':sum_data}\n",
    "with open('data_1.json', 'w') as fp:\n",
    "    json.dump(file_data, fp)"
   ]
  },
  {
   "cell_type": "markdown",
   "metadata": {},
   "source": [
    "Get column name"
   ]
  },
  {
   "cell_type": "code",
   "execution_count": 68,
   "metadata": {
    "scrolled": true
   },
   "outputs": [
    {
     "name": "stdout",
     "output_type": "stream",
     "text": [
      "วันที่\n",
      "ราคาเปิด\n",
      "ราคาสูงสุด\n",
      "ราคาต่ำสุด\n",
      "ราคาเฉลี่ย\n",
      "ราคาปิด\n",
      "เปลี่ยนแปลง\n",
      "%เปลี่ยนแปลง\n",
      "ปริมาณ(พันหุ้น)\n",
      "มูลค่า(ล้านบาท)\n",
      "SETIndex\n",
      "%เปลี่ยนแปลง.1\n"
     ]
    }
   ],
   "source": [
    "# Get column name and save them to json file\n",
    "l_col=[]\n",
    "for col in data[0].columns: \n",
    "    print(col)\n",
    "    l_col.append(col)\n",
    "    \n",
    "file_col = {'batch1':l_col}\n",
    "with open('data_col_1.json', 'w') as fp:\n",
    "    json.dump(file_col, fp)"
   ]
  },
  {
   "cell_type": "code",
   "execution_count": 72,
   "metadata": {},
   "outputs": [
    {
     "ename": "SyntaxError",
     "evalue": "invalid syntax (<ipython-input-72-13fd38b57919>, line 1)",
     "output_type": "error",
     "traceback": [
      "\u001b[1;36m  File \u001b[1;32m\"<ipython-input-72-13fd38b57919>\"\u001b[1;36m, line \u001b[1;32m1\u001b[0m\n\u001b[1;33m    --Check col data\u001b[0m\n\u001b[1;37m              ^\u001b[0m\n\u001b[1;31mSyntaxError\u001b[0m\u001b[1;31m:\u001b[0m invalid syntax\n"
     ]
    }
   ],
   "source": [
    "--Check col data"
   ]
  },
  {
   "cell_type": "code",
   "execution_count": 71,
   "metadata": {
    "scrolled": false
   },
   "outputs": [
    {
     "data": {
      "text/plain": [
       "{'batch1': ['วันที่',\n",
       "  'ราคาเปิด',\n",
       "  'ราคาสูงสุด',\n",
       "  'ราคาต่ำสุด',\n",
       "  'ราคาเฉลี่ย',\n",
       "  'ราคาปิด',\n",
       "  'เปลี่ยนแปลง',\n",
       "  '%เปลี่ยนแปลง',\n",
       "  'ปริมาณ(พันหุ้น)',\n",
       "  'มูลค่า(ล้านบาท)',\n",
       "  'SETIndex',\n",
       "  '%เปลี่ยนแปลง.1']}"
      ]
     },
     "execution_count": 71,
     "metadata": {},
     "output_type": "execute_result"
    }
   ],
   "source": [
    "with open('data_col_1.json','r') as json_file:\n",
    "    data_col = json.load(json_file)\n",
    "data_col"
   ]
  },
  {
   "cell_type": "code",
   "execution_count": null,
   "metadata": {},
   "outputs": [],
   "source": []
  },
  {
   "cell_type": "code",
   "execution_count": null,
   "metadata": {},
   "outputs": [],
   "source": [
    "with open('data_col_1.json','r') as json_file:\n",
    "    data_col = json.load(json_file)\n",
    "data_col"
   ]
  },
  {
   "cell_type": "markdown",
   "metadata": {},
   "source": [
    "#### 2.record data to local project folder"
   ]
  },
  {
   "cell_type": "code",
   "execution_count": null,
   "metadata": {},
   "outputs": [],
   "source": []
  },
  {
   "cell_type": "markdown",
   "metadata": {},
   "source": [
    "### Preprocess data"
   ]
  },
  {
   "cell_type": "markdown",
   "metadata": {},
   "source": [
    "#### 1.customize data to available form which analyse easily"
   ]
  },
  {
   "cell_type": "code",
   "execution_count": null,
   "metadata": {},
   "outputs": [],
   "source": []
  },
  {
   "cell_type": "code",
   "execution_count": null,
   "metadata": {},
   "outputs": [],
   "source": []
  },
  {
   "cell_type": "code",
   "execution_count": null,
   "metadata": {},
   "outputs": [],
   "source": []
  },
  {
   "cell_type": "code",
   "execution_count": null,
   "metadata": {},
   "outputs": [],
   "source": []
  }
 ],
 "metadata": {
  "kernelspec": {
   "display_name": "Python 3",
   "language": "python",
   "name": "python3"
  },
  "language_info": {
   "codemirror_mode": {
    "name": "ipython",
    "version": 3
   },
   "file_extension": ".py",
   "mimetype": "text/x-python",
   "name": "python",
   "nbconvert_exporter": "python",
   "pygments_lexer": "ipython3",
   "version": "3.7.3"
  }
 },
 "nbformat": 4,
 "nbformat_minor": 2
}
