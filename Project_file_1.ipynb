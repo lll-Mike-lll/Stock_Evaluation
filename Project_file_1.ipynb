{
 "cells": [
  {
   "cell_type": "markdown",
   "metadata": {},
   "source": [
    "# Stock Evaluation\n"
   ]
  },
  {
   "cell_type": "markdown",
   "metadata": {},
   "source": [
    "### Overall process\n",
    "- Data collection\n",
    "- Preprocess\n",
    "- Analysis\n",
    "- Summary"
   ]
  },
  {
   "cell_type": "code",
   "execution_count": 52,
   "metadata": {},
   "outputs": [],
   "source": [
    "#import libraries\n",
    "\n",
    "import pandas as pd\n",
    "import json\n",
    "import datetime"
   ]
  },
  {
   "cell_type": "markdown",
   "metadata": {},
   "source": [
    "### 1. Data collection\n",
    "#### 1.1 fetch data from official web"
   ]
  },
  {
   "cell_type": "markdown",
   "metadata": {},
   "source": [
    "- Data set of stock list in SET-100"
   ]
  },
  {
   "cell_type": "code",
   "execution_count": 146,
   "metadata": {},
   "outputs": [],
   "source": [
    "l_stock = ['AAV', 'ADVANC', 'AEONTS', 'AMATA', 'ANAN',\n",
    "           'AOT', 'AP', 'BANPU', 'BBL', 'BCH', 'BCP',\n",
    "           'BCPG', 'BDMS', 'BEAUTY', 'BEC', 'BEM',\n",
    "           'BGRIM', 'BH', 'BJC', 'BLAND', 'BPP',\n",
    "           'BTS', 'CBG', 'CENTEL', 'CHG', 'CK',\n",
    "           'CKP', 'COM7', 'CPALL', 'CPF', 'CPN',\n",
    "           'DELTA', 'DTAC', 'EA', 'EGCO', 'EPG',\n",
    "           'ERW', 'ESSO', 'GFPT', 'GLOBAL', 'GOLD',\n",
    "           'GPSC', 'GULF', 'GUNKUL', 'HANA', 'HMPRO',\n",
    "           'INTUCH', 'IRPC', 'IVL', 'KBANK', 'KCE',\n",
    "           'KKP', 'KTB', 'KTC', 'LH', 'MAJOR', 'MBK',\n",
    "           'MEGA', 'MINT', 'MTC', 'ORI', 'PLANB', 'PRM',\n",
    "           'PSH', 'PSL', 'PTG', 'PTT', 'PTTEP', 'PTTGC',\n",
    "           'QH', 'RATCH', 'ROBINS', 'RS', 'SAWAD', 'SCB',\n",
    "           'SCC', 'SGP', 'SIRI', 'SPALI', 'SPRC', 'STA',\n",
    "           'STEC', 'SUPER', 'TASCO', 'TCAP', 'THAI', \n",
    "           'THANI', 'TISCO', 'TKN', 'TMB', 'TOA', 'TOP',\n",
    "           'TPIPP', 'TRUE', 'TTW', 'TU', 'TVO', 'WHA',\n",
    "           'WHAUP', 'WORK']"
   ]
  },
  {
   "cell_type": "markdown",
   "metadata": {},
   "source": [
    "- Fetch price data from web"
   ]
  },
  {
   "cell_type": "code",
   "execution_count": 56,
   "metadata": {
    "scrolled": true
   },
   "outputs": [
    {
     "name": "stdout",
     "output_type": "stream",
     "text": [
      "0 processing\n",
      "done\n",
      "1 processing\n",
      "done\n",
      "2 processing\n",
      "done\n",
      "3 processing\n",
      "done\n",
      "4 processing\n",
      "done\n",
      "5 processing\n",
      "done\n",
      "6 processing\n",
      "done\n",
      "7 processing\n",
      "done\n",
      "8 processing\n",
      "done\n",
      "9 processing\n",
      "done\n",
      "10 processing\n",
      "done\n",
      "11 processing\n",
      "done\n",
      "12 processing\n",
      "done\n",
      "13 processing\n",
      "done\n",
      "14 processing\n",
      "done\n",
      "15 processing\n",
      "done\n",
      "16 processing\n",
      "done\n",
      "17 processing\n",
      "done\n",
      "18 processing\n",
      "done\n",
      "19 processing\n",
      "done\n",
      "20 processing\n",
      "done\n",
      "21 processing\n",
      "done\n",
      "22 processing\n",
      "done\n",
      "23 processing\n",
      "done\n",
      "24 processing\n",
      "done\n",
      "25 processing\n",
      "done\n",
      "26 processing\n",
      "done\n",
      "27 processing\n",
      "done\n",
      "28 processing\n",
      "done\n",
      "29 processing\n",
      "done\n",
      "30 processing\n",
      "done\n",
      "31 processing\n",
      "done\n",
      "32 processing\n",
      "done\n",
      "33 processing\n",
      "done\n",
      "34 processing\n",
      "done\n",
      "35 processing\n",
      "done\n",
      "36 processing\n",
      "done\n",
      "37 processing\n",
      "done\n",
      "38 processing\n",
      "done\n",
      "39 processing\n",
      "done\n",
      "40 processing\n",
      "done\n",
      "41 processing\n",
      "done\n",
      "42 processing\n",
      "done\n",
      "43 processing\n",
      "done\n",
      "44 processing\n",
      "done\n",
      "45 processing\n",
      "done\n",
      "46 processing\n",
      "done\n",
      "47 processing\n",
      "done\n",
      "48 processing\n",
      "done\n",
      "49 processing\n",
      "done\n",
      "50 processing\n",
      "done\n",
      "51 processing\n",
      "done\n",
      "52 processing\n",
      "done\n",
      "53 processing\n",
      "done\n",
      "54 processing\n",
      "done\n",
      "55 processing\n",
      "done\n",
      "56 processing\n",
      "done\n",
      "57 processing\n",
      "done\n",
      "58 processing\n",
      "done\n",
      "59 processing\n",
      "done\n",
      "60 processing\n",
      "done\n",
      "61 processing\n",
      "done\n",
      "62 processing\n",
      "done\n",
      "63 processing\n",
      "done\n",
      "64 processing\n",
      "done\n",
      "65 processing\n",
      "done\n",
      "66 processing\n",
      "done\n",
      "67 processing\n",
      "done\n",
      "68 processing\n",
      "done\n",
      "69 processing\n",
      "done\n",
      "70 processing\n",
      "done\n",
      "71 processing\n",
      "done\n",
      "72 processing\n",
      "done\n",
      "73 processing\n",
      "done\n",
      "74 processing\n",
      "done\n",
      "75 processing\n",
      "done\n",
      "76 processing\n",
      "done\n",
      "77 processing\n",
      "done\n",
      "78 processing\n",
      "done\n",
      "79 processing\n",
      "done\n",
      "80 processing\n",
      "done\n",
      "81 processing\n",
      "done\n",
      "82 processing\n",
      "done\n",
      "83 processing\n",
      "done\n",
      "84 processing\n",
      "done\n",
      "85 processing\n",
      "done\n",
      "86 processing\n",
      "done\n",
      "87 processing\n",
      "done\n",
      "88 processing\n",
      "done\n",
      "89 processing\n",
      "done\n",
      "90 processing\n",
      "done\n",
      "91 processing\n",
      "done\n",
      "92 processing\n",
      "done\n",
      "93 processing\n",
      "done\n",
      "94 processing\n",
      "done\n",
      "95 processing\n",
      "done\n",
      "96 processing\n",
      "done\n",
      "97 processing\n",
      "done\n",
      "98 processing\n",
      "done\n",
      "99 processing\n",
      "done\n",
      "0:04:22.291321\n"
     ]
    }
   ],
   "source": [
    "sum_data=[]\n",
    "currentDT = datetime.datetime.now()\n",
    "for k in range(len(l_stock)):\n",
    "    l_data = []\n",
    "    print(str(k+1)+\"/\"+str(len(l_stock))+\" processing\")\n",
    "    for i in range(9):\n",
    "        url = \"https://www.settrade.com/C04_02_stock_historical_p1.jsp?txtSymbol=\"+l_stock[k]+\"&selectPage=2&max=15&offset=\"+str(i*15)\n",
    "        data = pd.read_html(url)\n",
    "        for j in range(len(data[0].values.tolist())):\n",
    "            l_data.append(data[0].values.tolist()[j])\n",
    "    sum_data.append([l_stock[k],l_data])\n",
    "    print('done')\n",
    "currentDT1 = datetime.datetime.now()\n",
    "print (str(currentDT1-currentDT))"
   ]
  },
  {
   "cell_type": "markdown",
   "metadata": {},
   "source": [
    "- Fetch financial data from website"
   ]
  },
  {
   "cell_type": "code",
   "execution_count": 139,
   "metadata": {
    "scrolled": true
   },
   "outputs": [
    {
     "name": "stdout",
     "output_type": "stream",
     "text": [
      "0/100 processing\n",
      "done\n",
      "1/100 processing\n",
      "done\n",
      "2/100 processing\n",
      "done\n",
      "3/100 processing\n",
      "done\n",
      "4/100 processing\n",
      "done\n",
      "5/100 processing\n",
      "done\n",
      "6/100 processing\n",
      "done\n",
      "7/100 processing\n",
      "done\n",
      "8/100 processing\n",
      "done\n",
      "9/100 processing\n",
      "done\n",
      "10/100 processing\n",
      "done\n",
      "11/100 processing\n",
      "done\n",
      "12/100 processing\n",
      "done\n",
      "13/100 processing\n",
      "done\n",
      "14/100 processing\n",
      "done\n",
      "15/100 processing\n",
      "done\n",
      "16/100 processing\n",
      "done\n",
      "17/100 processing\n",
      "done\n",
      "18/100 processing\n",
      "done\n",
      "19/100 processing\n",
      "done\n",
      "20/100 processing\n",
      "done\n",
      "21/100 processing\n",
      "done\n",
      "22/100 processing\n",
      "done\n",
      "23/100 processing\n",
      "done\n",
      "24/100 processing\n",
      "done\n",
      "25/100 processing\n",
      "done\n",
      "26/100 processing\n",
      "done\n",
      "27/100 processing\n",
      "done\n",
      "28/100 processing\n",
      "done\n",
      "29/100 processing\n",
      "done\n",
      "30/100 processing\n",
      "done\n",
      "31/100 processing\n",
      "done\n",
      "32/100 processing\n",
      "done\n",
      "33/100 processing\n",
      "done\n",
      "34/100 processing\n",
      "done\n",
      "35/100 processing\n",
      "done\n",
      "36/100 processing\n",
      "done\n",
      "37/100 processing\n",
      "done\n",
      "38/100 processing\n",
      "done\n",
      "39/100 processing\n",
      "done\n",
      "40/100 processing\n",
      "done\n",
      "41/100 processing\n",
      "done\n",
      "42/100 processing\n",
      "done\n",
      "43/100 processing\n",
      "done\n",
      "44/100 processing\n",
      "done\n",
      "45/100 processing\n",
      "done\n",
      "46/100 processing\n",
      "done\n",
      "47/100 processing\n",
      "done\n",
      "48/100 processing\n",
      "done\n",
      "49/100 processing\n",
      "done\n",
      "50/100 processing\n",
      "done\n",
      "51/100 processing\n",
      "done\n",
      "52/100 processing\n",
      "done\n",
      "53/100 processing\n",
      "done\n",
      "54/100 processing\n",
      "done\n",
      "55/100 processing\n",
      "done\n",
      "56/100 processing\n",
      "done\n",
      "57/100 processing\n",
      "done\n",
      "58/100 processing\n",
      "done\n",
      "59/100 processing\n",
      "done\n",
      "60/100 processing\n",
      "done\n",
      "61/100 processing\n",
      "done\n",
      "62/100 processing\n",
      "done\n",
      "63/100 processing\n",
      "done\n",
      "64/100 processing\n",
      "done\n",
      "65/100 processing\n",
      "done\n",
      "66/100 processing\n",
      "done\n",
      "67/100 processing\n",
      "done\n",
      "68/100 processing\n",
      "done\n",
      "69/100 processing\n",
      "done\n",
      "70/100 processing\n",
      "done\n",
      "71/100 processing\n",
      "done\n",
      "72/100 processing\n",
      "done\n",
      "73/100 processing\n",
      "done\n",
      "74/100 processing\n",
      "done\n",
      "75/100 processing\n",
      "done\n",
      "76/100 processing\n",
      "done\n",
      "77/100 processing\n",
      "done\n",
      "78/100 processing\n",
      "done\n",
      "79/100 processing\n",
      "done\n",
      "80/100 processing\n",
      "done\n",
      "81/100 processing\n",
      "done\n",
      "82/100 processing\n",
      "done\n",
      "83/100 processing\n",
      "done\n",
      "84/100 processing\n",
      "done\n",
      "85/100 processing\n",
      "done\n",
      "86/100 processing\n",
      "done\n",
      "87/100 processing\n",
      "done\n",
      "88/100 processing\n",
      "done\n",
      "89/100 processing\n",
      "done\n",
      "90/100 processing\n",
      "done\n",
      "91/100 processing\n",
      "done\n",
      "92/100 processing\n",
      "done\n",
      "93/100 processing\n",
      "done\n",
      "94/100 processing\n",
      "done\n",
      "95/100 processing\n",
      "done\n",
      "96/100 processing\n",
      "done\n",
      "97/100 processing\n",
      "done\n",
      "98/100 processing\n",
      "done\n",
      "99/100 processing\n",
      "done\n"
     ]
    }
   ],
   "source": [
    "index_a = [18,19,23,24,25,26,28,29]\n",
    "fin_data = []\n",
    "for i in range(len(l_stock)):\n",
    "    url_01 = \"https://www.set.or.th/set/factsheet.do?symbol=\"+l_stock[0]+\"&ssoPageId=3&language=th&country=TH\"\n",
    "    print(str(i+1)+\"/\"+str(len(l_stock))+\" processing\")\n",
    "    data_01 = pd.read_html(url_01)\n",
    "    state_data = []\n",
    "    for j in index_a:\n",
    "        state_data.append(data_01[j].values.tolist())\n",
    "    fin_data.append([l_stock[i],state_data])\n",
    "    print('done')\n",
    " "
   ]
  },
  {
   "cell_type": "markdown",
   "metadata": {},
   "source": [
    "#### 1.2 Record data to local folder"
   ]
  },
  {
   "cell_type": "code",
   "execution_count": null,
   "metadata": {},
   "outputs": [],
   "source": [
    "# Save fetched data to json file\n",
    "\n",
    "file_data = {'batch1':sum_data}\n",
    "with open('data_1.json', 'w') as fp:\n",
    "    json.dump(file_data, fp)"
   ]
  },
  {
   "cell_type": "code",
   "execution_count": 81,
   "metadata": {
    "scrolled": true
   },
   "outputs": [],
   "source": [
    "# Get column name and save them to json file\n",
    "\n",
    "l_col=[]\n",
    "for col in data[0].columns: \n",
    "    #print(col)\n",
    "    l_col.append(col)\n",
    "    \n",
    "file_col = {'batch1':l_col}\n",
    "with open('data_col_1.json', 'w') as fp:\n",
    "    json.dump(file_col, fp)"
   ]
  },
  {
   "cell_type": "code",
   "execution_count": 140,
   "metadata": {},
   "outputs": [],
   "source": [
    "# Save financial data\n",
    "file_fin = {'batch1':fin_data}\n",
    "with open('data_fin_1.json', 'w') as fp2:\n",
    "    json.dump(file_fin, fp2)"
   ]
  },
  {
   "cell_type": "markdown",
   "metadata": {},
   "source": [
    "#### 1.3 Check data"
   ]
  },
  {
   "cell_type": "markdown",
   "metadata": {},
   "source": [
    "- Check column data"
   ]
  },
  {
   "cell_type": "code",
   "execution_count": 73,
   "metadata": {
    "scrolled": false
   },
   "outputs": [
    {
     "data": {
      "text/plain": [
       "{'batch1': ['วันที่',\n",
       "  'ราคาเปิด',\n",
       "  'ราคาสูงสุด',\n",
       "  'ราคาต่ำสุด',\n",
       "  'ราคาเฉลี่ย',\n",
       "  'ราคาปิด',\n",
       "  'เปลี่ยนแปลง',\n",
       "  '%เปลี่ยนแปลง',\n",
       "  'ปริมาณ(พันหุ้น)',\n",
       "  'มูลค่า(ล้านบาท)',\n",
       "  'SETIndex',\n",
       "  '%เปลี่ยนแปลง.1']}"
      ]
     },
     "execution_count": 73,
     "metadata": {},
     "output_type": "execute_result"
    }
   ],
   "source": [
    "with open('data_col_1.json','r') as json_file:\n",
    "    data_col = json.load(json_file)\n",
    "data_col"
   ]
  },
  {
   "cell_type": "markdown",
   "metadata": {},
   "source": [
    "- Check price stock data"
   ]
  },
  {
   "cell_type": "code",
   "execution_count": 80,
   "metadata": {
    "scrolled": false
   },
   "outputs": [
    {
     "name": "stdout",
     "output_type": "stream",
     "text": [
      "AAV\n",
      "['29/10/19', 2.52, 2.6, 2.5, 2.53, 2.5, -0.02, -0.79, 11655.4, 29.53, 1591.21, -0.33]\n"
     ]
    }
   ],
   "source": [
    "with open('data_1.json','r') as json_file:\n",
    "    data_s = json.load(json_file)\n",
    "print(data_s['batch1'][0][0])\n",
    "print(data_s['batch1'][0][1][0])"
   ]
  },
  {
   "cell_type": "markdown",
   "metadata": {},
   "source": [
    "- Check financial data"
   ]
  },
  {
   "cell_type": "code",
   "execution_count": 145,
   "metadata": {
    "scrolled": true
   },
   "outputs": [
    {
     "name": "stdout",
     "output_type": "stream",
     "text": [
      "['IVL', [[['สะสม: อัตราหมุนเวียนปริมาณการซื้อขาย, มูลค่าซื้อขาย/วัน', 'สะสม: อัตราหมุนเวียนปริมาณการซื้อขาย, มูลค่าซื้อขาย/วัน', 'สะสม: อัตราหมุนเวียนปริมาณการซื้อขาย, มูลค่าซื้อขาย/วัน', 'สะสม: อัตราหมุนเวียนปริมาณการซื้อขาย, มูลค่าซื้อขาย/วัน'], ['ข้อมูลสถิติ', 'YTD30 ต.ค. 2562', '256128 ธ.ค. 2561', '256029 ธ.ค. 2560'], ['จำนวนหุ้นจดทะเบียน (ล้านหุ้น)', '4850.00', '4850.00', '4850.00'], ['มูลค่าหลักทรัพย์ตามราคาตลาด (ลบ.)', '12222.00', '20370.00', '29827.50'], ['ราคา (บาท/หุ้น)', '2.52', '4.20', '6.15'], ['มูลค่าหุ้นทางบัญชีต่อหุ้น (บาท/หุ้น)', '4.21', '4.27', '4.59'], ['P/BV (X)', '0.60', '0.98', '1.34'], ['P/E (X)', nan, '24.98', '28.59'], ['อัตราหมุนเวียนปริมาณการซื้อขาย (%)', '56.74', '65.74', '130.69'], ['มูลค่าซื้อขาย/วัน (ลบ.)', '53.68', '63.26', '152.93'], ['Beta', '1.06', '0.63', '0.64'], [nan, nan, nan, nan], ['อัตราผลตอบแทน', 'YTD', '2561', '2560'], ['การเปลี่ยนแปลงของราคา (%)', '-40.00', '-31.71', '1.65'], ['อัตราเงินปันผลตอบแทน (%)', '13.29', '3.57', '2.44'], ['อัตราส่วนเงินปันผลต่อกำไร', nan, '1.99', '0.70'], ['นโยบายเงินปันผล', 'คำนึงถึงผลการดำเนินงาน สภาพคล่อง กระแสเงินสด และสถานะทางการเงินของ บมจ.เอเชีย เอวิเอชั่น เงื่อนไขและข้อจำกัดในการจ่ายเงินปันผลตามที่กำหนดไว้ในสัญญาเงินกู้ หุ้นกู้ หรือสัญญาต่างๆ ที่เกี่ยวข้อง (โดยมีเงื่อนไขเพิ่มเติม)', 'คำนึงถึงผลการดำเนินงาน สภาพคล่อง กระแสเงินสด และสถานะทางการเงินของ บมจ.เอเชีย เอวิเอชั่น เงื่อนไขและข้อจำกัดในการจ่ายเงินปันผลตามที่กำหนดไว้ในสัญญาเงินกู้ หุ้นกู้ หรือสัญญาต่างๆ ที่เกี่ยวข้อง (โดยมีเงื่อนไขเพิ่มเติม)', 'คำนึงถึงผลการดำเนินงาน สภาพคล่อง กระแสเงินสด และสถานะทางการเงินของ บมจ.เอเชีย เอวิเอชั่น เงื่อนไขและข้อจำกัดในการจ่ายเงินปันผลตามที่กำหนดไว้ในสัญญาเงินกู้ หุ้นกู้ หรือสัญญาต่างๆ ที่เกี่ยวข้อง (โดยมีเงื่อนไขเพิ่มเติม)']], [['การจ่ายปันผล', 'การจ่ายปันผล', 'การจ่ายปันผล', 'การจ่ายปันผล', 'การจ่ายปันผล'], ['รอบผลประกอบการ', 'เงินปันผล (ต่อหุ้น)', 'หน่วย', 'วันจ่ายปันผล', 'ประเภท'], ['-', '0.135', 'บาท', '09 ต.ค. 2561', 'เงินปันผล'], ['01 ม.ค. 2561 - 14 พ.ค. 2561', '0.20', 'บาท', '08 มิ.ย. 2561', 'เงินปันผล'], ['01 ม.ค. 2560 - 10 พ.ย. 2560', '0.15', 'บาท', '07 ธ.ค. 2560', 'เงินปันผล'], ['01 ม.ค. 2559 - 11 พ.ย. 2559', '0.15', 'บาท', '07 ธ.ค. 2559', 'เงินปันผล']], [['งบแสดงฐานะการเงิน (ลบ.)', '6M/2562\\xa0(01/01/62 -30/06/62)', '6M/2561\\xa0(01/01/61 -30/06/61)', '2561\\xa0(01/01/61 -31/12/61)', '2560\\xa0(01/01/60 -31/12/60)', '2559\\xa0(01/01/59 -31/12/59)'], ['เงินสด', '2930.46', '5032.36', '4122.62', '5337.96', '4661.35'], ['ลูกหนี้และตั๋วเงินรับการค้าสุทธิ', '603.50', '538.87', '492.72', '455.77', '446.00'], ['สินค้าคงเหลือ', '286.59', '137.74', '188.32', '148.80', '118.18'], ['รวมสินทรัพย์หมุนเวียน', '5797.23', '8749.56', '6365.48', '9048.97', '8759.62'], ['ที่ดินอาคารและอุปกรณ์สุทธิ', '25506.11', '24862.24', '26185.18', '25472.75', '20425.36'], ['รวมสินทรัพย์', '60996.47', '62374.73', '61746.72', '62773.56', '56599.43'], ['เงินเบิกเกินบัญชีและเงินกู้ยืม', '800.00', '-', '650.00', '-', '-'], ['เจ้าหนี้และตั๋วเงินจ่ายการค้าสุทธิ', '554.65', '332.15', '159.68', '310.67', '488.96'], ['หนี้สินระยะยาวที่ถึงกำหนดชำระภายในหนึ่งปี', '2521.22', '1561.02', '1513.85', '2647.42', '1791.51'], ['รวมหนี้สินหมุนเวียน', '11714.66', '9200.66', '11022.16', '10910.14', '9270.10'], ['รวมหนี้สินไม่หมุนเวียน', '20767.13', '22226.36', '22101.76', '20410.33', '17209.08'], ['รวมหนี้สิน', '32481.79', '31427.02', '33123.92', '31320.46', '26479.18'], ['ทุนจดทะเบียน', '485.00', '485.00', '485.00', '485.00', '485.00'], ['ทุนที่ออกและชำระเต็มมูลค่า', '485.00', '485.00', '485.00', '485.00', '485.00'], ['ส่วนเกิน(ต่ำกว่า)มูลค่าหุ้น', '2599.81', '2599.81', '2599.81', '2599.81', '2599.81'], ['ส่วนเกิน(ต่ำกว่า)ทุนอื่น', '-', '-', '-', '-', '-'], ['กำไร(ขาดทุน)สะสม', '17311.84', '18649.10', '17370.56', '18921.08', '18185.71'], ['หุ้นทุนรับซื้อคืน/หุ้นที่ถือโดยบริษัทย่อย', '-', '-', '-', '-', '-'], ['ส่วนของผู้ถือหุ้นบริษัทใหญ่', '20396.65', '21733.90', '20455.36', '22005.88', '21270.52'], ['ส่วนของผู้ถือหุ้นส่วนน้อย', '8118.04', '9213.81', '8167.43', '9447.22', '8849.73'], ['เพิ่มเติม', 'เพิ่มเติม', 'เพิ่มเติม', 'เพิ่มเติม', 'เพิ่มเติม', 'เพิ่มเติม']], [['งบกำไรขาดทุนเบ็ดเสร็จ (ลบ.)', '6M/2562\\xa0(01/01/62 -30/06/62)', '6M/2561\\xa0(01/01/61 -30/06/61)', '2561\\xa0(01/01/61 -31/12/61)', '2560\\xa0(01/01/60 -31/12/60)', '2559\\xa0(01/01/59 -31/12/59)'], ['ยอดขายสุทธิ', '20763.98', '20304.90', '38904.85', '35931.56', '32400.57'], ['รายได้อื่น', '873.96', '591.33', '1295.36', '1350.76', '729.74'], ['รวมรายได้', '21637.94', '20896.24', '40200.21', '37282.32', '33130.30'], ['ต้นทุนขาย', '19606.50', '17759.10', '36423.96', '31028.72', '26687.76'], ['ค่าใช้จ่ายในการขายและบริหาร', '1691.23', '1571.87', '3116.11', '2949.73', '2636.08'], ['รวมค่าใช้จ่าย', '21297.73', '19330.97', '39540.07', '33978.44', '29403.34'], ['EBITDA', '1197.36', '2374.26', '2326.89', '4754.86', '5027.43'], ['ค่าเสื่อมและค่าตัดจำหน่าย', '857.15', '808.99', '1666.75', '1450.99', '1300.47'], ['กำไรก่อนด/บ และภาษีเงินได้', '340.20', '1565.27', '660.14', '3303.88', '3726.96'], ['กำไร(ขาดทุน)สุทธิ', '14.73', '698.00', '69.97', '1477.49', '1869.46'], ['กำไรต่อหุ้น (บาท)', '0.00', '0.14', '0.01', '0.30', '0.39'], ['เพิ่มเติม', 'เพิ่มเติม', 'เพิ่มเติม', 'เพิ่มเติม', 'เพิ่มเติม', 'เพิ่มเติม']], [['งบกระแสเงินสด (ลบ.)', '6M/2562\\xa0(01/01/62 -30/06/62)', '6M/2561\\xa0(01/01/61 -30/06/61)', '2561\\xa0(01/01/61 -31/12/61)', '2560\\xa0(01/01/60 -31/12/60)', '2559\\xa0(01/01/59 -31/12/59)'], ['เงินสดสุทธิจากกิจกรรมดำเนินงาน', '-84.61', '1769.45', '2869.29', '5133.13', '4381.56'], ['เงินสดสุทธิจากกิจกรรมลงทุน', '-674.69', '-597.81', '-1733.32', '-2846.86', '-2785.59'], ['เงินสดสุทธิจากกิจกรรมจัดหาเงิน', '-333.31', '-1467.31', '-2288.29', '-1563.37', '-3098.13'], ['เงินสดสุทธิ', '-1092.61', '-295.67', '-1152.32', '722.89', '-1502.16'], ['เพิ่มเติม', 'เพิ่มเติม', 'เพิ่มเติม', 'เพิ่มเติม', 'เพิ่มเติม', 'เพิ่มเติม']], [['ปรับข้อมูลเต็มปี: อัตราผลตอบแทนผู้ถือหุ้น, อัตราผลตอบแทนจากสินทรัพย์', 'ปรับข้อมูลเต็มปี: อัตราผลตอบแทนผู้ถือหุ้น, อัตราผลตอบแทนจากสินทรัพย์', 'ปรับข้อมูลเต็มปี: อัตราผลตอบแทนผู้ถือหุ้น, อัตราผลตอบแทนจากสินทรัพย์', 'ปรับข้อมูลเต็มปี: อัตราผลตอบแทนผู้ถือหุ้น, อัตราผลตอบแทนจากสินทรัพย์', 'ปรับข้อมูลเต็มปี: อัตราผลตอบแทนผู้ถือหุ้น, อัตราผลตอบแทนจากสินทรัพย์'], ['อัตราส่วนทางการเงิน', '6M/2562', '6M/2561', '2561', '2560'], ['อัตราส่วนสภาพคล่อง (เท่า)', '0.49', '0.95', '0.58', '0.83'], ['อัตราผลตอบแทนผู้ถือหุ้น (%)', '-2.91', '6.56', '0.33', '6.83'], ['อัตราผลตอบแทนจากสินทรัพย์ (%)', '-0.92', '5.27', '1.06', '5.54'], ['อัตราส่วนหนี้สินต่อส่วนของผู้ถือหุ้น (เท่า)', '1.59', '1.45', '1.62', '1.42'], ['อัตราส่วนหมุนเวียนทรัพย์สิน (เท่า)', '0.66', '0.66', '0.65', '0.62'], ['อัตรากำไรขั้นต้น (%)', '5.57', '12.54', '6.38', '13.64'], ['EBIT Margin (%)', '1.57', '7.49', '1.64', '8.86'], ['อัตรากำไรสุทธิ (%)', '0.07', '3.34', '0.17', '3.96']], [['อัตราการเปลี่ยนแปลง (%)', '6M/2562', '6M/2561', 2561.0, 2560.0], ['อัตราการเปลี่ยนแปลงยอดขาย', '2.26', '16.12', 8.27, 10.9], ['อัตราการเปลี่ยนแปลงต้นทุนขาย', '10.40', '18.12', 17.39, 16.27], ['อัตราการเปลี่ยนแปลงรายได้รวม', '3.55', '15.23', 7.83, 12.53], ['อัตราการเปลี่ยนแปลงค่าใช้จ่ายรวม', '10.17', '17.30', 16.37, 15.56], ['อัตราการเปลี่ยนแปลงกำไรสุทธิ', '-97.89', '-5.80', -95.26, -20.97]], [['ปรับข้อมูลเต็มปี', 'ปรับข้อมูลเต็มปี', 'ปรับข้อมูลเต็มปี', 'ปรับข้อมูลเต็มปี', 'ปรับข้อมูลเต็มปี'], ['วงจรเงินสด', '6M/2562', '6M/2561', '2561', '2560'], ['อัตราส่วนหมุนเวียนลูกหนี้การค้า (เท่า)', '68.92', '82.90', '82.04', '79.69'], ['ระยะเวลาเก็บหนี้เฉลี่ย (วัน)', '5.30', '4.40', '4.45', '4.58'], ['อัตราส่วนหมุนเวียนสินค้าคงเหลือ (เท่า)', '180.38', '278.72', '216.09', '232.44'], ['ระยะเวลาขายสินค้าเฉลี่ย (วัน)', '2.02', '1.31', '1.69', '1.57'], ['อัตราส่วนหมุนเวียนเจ้าหนี้การค้า (เท่า)', '86.31', '109.30', '154.88', '77.61'], ['ระยะเวลาชำระหนี้เจ้าหนี้การค้า (วัน)', '4.23', '3.34', '2.36', '4.70'], ['วงจรเงินสด (วัน)', '3.09', '2.37', '3.78', '1.45']]]]\n"
     ]
    }
   ],
   "source": [
    "with open('data_fin_1.json','r') as json_file:\n",
    "    data_f = json.load(json_file)\n",
    "print(data_f[\"batch1\"][48])"
   ]
  },
  {
   "cell_type": "markdown",
   "metadata": {},
   "source": [
    "### 2. Preprocess"
   ]
  },
  {
   "cell_type": "markdown",
   "metadata": {},
   "source": [
    "#### 2.1 customize data to available format for analysis"
   ]
  },
  {
   "cell_type": "code",
   "execution_count": null,
   "metadata": {},
   "outputs": [],
   "source": []
  },
  {
   "cell_type": "code",
   "execution_count": null,
   "metadata": {},
   "outputs": [],
   "source": []
  },
  {
   "cell_type": "code",
   "execution_count": null,
   "metadata": {},
   "outputs": [],
   "source": []
  },
  {
   "cell_type": "markdown",
   "metadata": {},
   "source": [
    "### 3. Analysis"
   ]
  },
  {
   "cell_type": "markdown",
   "metadata": {},
   "source": [
    "#### Target of analysis"
   ]
  },
  {
   "cell_type": "markdown",
   "metadata": {},
   "source": [
    "- Select stocks which have good financial management from SET market\n",
    "- Stock evaluation in price and value of company"
   ]
  },
  {
   "cell_type": "markdown",
   "metadata": {},
   "source": [
    "#### 3.1 Debt analysis"
   ]
  },
  {
   "cell_type": "code",
   "execution_count": null,
   "metadata": {},
   "outputs": [],
   "source": []
  }
 ],
 "metadata": {
  "kernelspec": {
   "display_name": "Python 3",
   "language": "python",
   "name": "python3"
  },
  "language_info": {
   "codemirror_mode": {
    "name": "ipython",
    "version": 3
   },
   "file_extension": ".py",
   "mimetype": "text/x-python",
   "name": "python",
   "nbconvert_exporter": "python",
   "pygments_lexer": "ipython3",
   "version": "3.7.3"
  }
 },
 "nbformat": 4,
 "nbformat_minor": 2
}
